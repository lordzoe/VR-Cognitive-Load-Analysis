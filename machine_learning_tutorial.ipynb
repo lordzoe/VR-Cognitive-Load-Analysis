{
 "cells": [
  {
   "cell_type": "code",
   "execution_count": 1,
   "metadata": {},
   "outputs": [],
   "source": [
    "import pandas as pd\n",
    "from sklearn.model_selection import train_test_split\n",
    "from sklearn.model_selection import train_test_split, GridSearchCV\n",
    "from sklearn.metrics import accuracy_score, classification_report, confusion_matrix\n",
    "import matplotlib.pyplot as plt\n",
    "import seaborn as snsv\n",
    "from sklearn.ensemble import RandomForestClassifier\n",
    "from sklearn.linear_model import LogisticRegression\n",
    "from sklearn.discriminant_analysis import LinearDiscriminantAnalysis\n",
    "from sklearn.svm import SVC"
   ]
  },
  {
   "cell_type": "markdown",
   "metadata": {},
   "source": [
    "### Create behavioural_analysis_tutorial_df for 9-point Paas Score in Tutorial"
   ]
  },
  {
   "cell_type": "code",
   "execution_count": null,
   "metadata": {},
   "outputs": [
    {
     "name": "stdout",
     "output_type": "stream",
     "text": [
      "     participant_number  tutorial_number  feedback_score_tutorial\n",
      "0                     2                0                        1\n",
      "1                     2                1                        3\n",
      "2                     2                2                        8\n",
      "3                     3                0                        4\n",
      "4                     3                1                        1\n",
      "..                  ...              ...                      ...\n",
      "175                  80                1                        4\n",
      "176                  80                2                        7\n",
      "177                  81                0                        3\n",
      "178                  81                1                        1\n",
      "179                  81                2                        7\n",
      "\n",
      "[180 rows x 3 columns]\n"
     ]
    }
   ],
   "source": [
    "behavioural_analysis_df = pd.read_csv('behavioural_analysis.csv')\n",
    "\n",
    "columns_to_select = ['participant_number', 'feedback_score_tutorial_1', 'feedback_score_tutorial_2', 'feedback_score_tutorial_3']\n",
    "behavioural_analysis_df = behavioural_analysis_df[columns_to_select]\n",
    "\n",
    "behavioural_analysis_df = behavioural_analysis_df.drop_duplicates(subset=['participant_number'])\n",
    "\n",
    "data = []\n",
    "for _, row in behavioural_analysis_df.iterrows():\n",
    "    participant_number = row['participant_number']\n",
    "    data.append({'participant_number': participant_number, 'tutorial_number': 0, 'feedback_score_tutorial': row['feedback_score_tutorial_1']})\n",
    "    data.append({'participant_number': participant_number, 'tutorial_number': 1, 'feedback_score_tutorial': row['feedback_score_tutorial_2']})\n",
    "    data.append({'participant_number': participant_number, 'tutorial_number': 2, 'feedback_score_tutorial': row['feedback_score_tutorial_3']})\n",
    "\n",
    "behavioural_analysis_tutorial_df = pd.DataFrame(data)\n",
    "\n",
    "print(behavioural_analysis_tutorial_df)"
   ]
  },
  {
   "cell_type": "markdown",
   "metadata": {},
   "source": [
    "### Output master_tutorial.csv with Behavioural, fNIRS, and Eye-Tracking Features"
   ]
  },
  {
   "cell_type": "code",
   "execution_count": 16,
   "metadata": {},
   "outputs": [
    {
     "name": "stdout",
     "output_type": "stream",
     "text": [
      "master_tutorial.csv has been updated successfully.\n"
     ]
    }
   ],
   "source": [
    "fnirs_analysis_tutorial_df = pd.read_csv('fnirs_analysis_tutorial.csv')\n",
    "eye_tracking_tutorial_df = pd.read_csv('eye_tracking_analysis_tutorial.csv')\n",
    "\n",
    "merged_df = behavioural_analysis_tutorial_df.merge(fnirs_analysis_tutorial_df, on=['participant_number', 'tutorial_number'])\n",
    "merged_df = merged_df.merge(eye_tracking_tutorial_df, on=['participant_number', 'tutorial_number'])\n",
    "\n",
    "merged_df.to_csv('master_tutorial.csv', index=False)\n",
    "\n",
    "print(\"master_tutorial.csv has been updated successfully.\")"
   ]
  }
 ],
 "metadata": {
  "kernelspec": {
   "display_name": "Python 3",
   "language": "python",
   "name": "python3"
  },
  "language_info": {
   "codemirror_mode": {
    "name": "ipython",
    "version": 3
   },
   "file_extension": ".py",
   "mimetype": "text/x-python",
   "name": "python",
   "nbconvert_exporter": "python",
   "pygments_lexer": "ipython3",
   "version": "3.8.10"
  }
 },
 "nbformat": 4,
 "nbformat_minor": 2
}
